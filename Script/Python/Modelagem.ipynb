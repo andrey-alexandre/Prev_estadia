{
 "cells": [
  {
   "cell_type": "code",
   "execution_count": 21,
   "metadata": {},
   "outputs": [],
   "source": [
    "import numpy as np\n",
    "import pandas as pd\n",
    "import seaborn as sns\n",
    "from scipy.stats import iqr\n",
    "from sklearn.metrics import mean_squared_error, median_absolute_error\n",
    "from sklearn.compose import ColumnTransformer, make_column_transformer\n",
    "from sklearn.model_selection import train_test_split, RandomizedSearchCV\n",
    "from sklearn.pipeline import make_pipeline\n",
    "from sklearn.preprocessing import OneHotEncoder\n",
    "from sklearn.impute import SimpleImputer\n",
    "from sklearn.svm import SVR\n",
    "from sklearn.linear_model import SGDRegressor\n",
    "from sklearn.neural_network import MLPRegressor\n",
    "from sklearn.kernel_ridge import KernelRidge\n",
    "from sklearn.linear_model import ElasticNet\n",
    "import xgboost as xgb"
   ]
  },
  {
   "cell_type": "code",
   "execution_count": 2,
   "metadata": {},
   "outputs": [
    {
     "name": "stderr",
     "output_type": "stream",
     "text": [
      "C:\\Users\\Andrey\\Anaconda3\\lib\\site-packages\\IPython\\core\\interactiveshell.py:3058: DtypeWarning: Columns (61,62,94) have mixed types. Specify dtype option on import or set low_memory=False.\n",
      "  interactivity=interactivity, compiler=compiler, result=result)\n"
     ]
    }
   ],
   "source": [
    "lista_c = pd.read_csv('C:/Google Drive/Provas/cognitivo.ai/Dados/listings.csv', encoding = 'UTF-8')\n",
    "#lista_c.head(3)"
   ]
  },
  {
   "cell_type": "code",
   "execution_count": 3,
   "metadata": {},
   "outputs": [],
   "source": [
    "lista_c['price'] = pd.to_numeric(lista_c.loc[:, 'price'].str[1:].str.replace(',', ''))"
   ]
  },
  {
   "cell_type": "code",
   "execution_count": 4,
   "metadata": {},
   "outputs": [],
   "source": [
    "target = lista_c.price.values\n",
    "features = lista_c[[\"room_type\", \"accommodates\", \"bathrooms\", \"bedrooms\", \"beds\", \n",
    "         \"minimum_nights\", \"number_of_reviews\", \"review_scores_rating\"]]"
   ]
  },
  {
   "cell_type": "code",
   "execution_count": 5,
   "metadata": {},
   "outputs": [],
   "source": [
    "preprocess = make_column_transformer(\n",
    "    (OneHotEncoder(), ['room_type']),\n",
    "    (SimpleImputer(missing_values=np.nan, strategy='mean'), [\"accommodates\", \"bathrooms\", \"bedrooms\", \"beds\", \n",
    "         \"minimum_nights\", \"number_of_reviews\", \"review_scores_rating\"])\n",
    ")"
   ]
  },
  {
   "cell_type": "code",
   "execution_count": 6,
   "metadata": {},
   "outputs": [],
   "source": [
    "features = preprocess.fit_transform(features)\n",
    "X_train, X_test, y_train, y_test = train_test_split(features, target, random_state=0)"
   ]
  },
  {
   "cell_type": "code",
   "execution_count": 10,
   "metadata": {},
   "outputs": [
    {
     "name": "stderr",
     "output_type": "stream",
     "text": [
      "C:\\Users\\Andrey\\Anaconda3\\lib\\site-packages\\sklearn\\linear_model\\stochastic_gradient.py:1185: ConvergenceWarning: Maximum number of iteration reached before convergence. Consider increasing max_iter to improve the fit.\n",
      "  ConvergenceWarning)\n",
      "C:\\Users\\Andrey\\Anaconda3\\lib\\site-packages\\sklearn\\linear_model\\stochastic_gradient.py:1185: ConvergenceWarning: Maximum number of iteration reached before convergence. Consider increasing max_iter to improve the fit.\n",
      "  ConvergenceWarning)\n",
      "C:\\Users\\Andrey\\Anaconda3\\lib\\site-packages\\sklearn\\linear_model\\stochastic_gradient.py:1185: ConvergenceWarning: Maximum number of iteration reached before convergence. Consider increasing max_iter to improve the fit.\n",
      "  ConvergenceWarning)\n",
      "C:\\Users\\Andrey\\Anaconda3\\lib\\site-packages\\sklearn\\linear_model\\stochastic_gradient.py:1185: ConvergenceWarning: Maximum number of iteration reached before convergence. Consider increasing max_iter to improve the fit.\n",
      "  ConvergenceWarning)\n",
      "C:\\Users\\Andrey\\Anaconda3\\lib\\site-packages\\sklearn\\linear_model\\stochastic_gradient.py:1185: ConvergenceWarning: Maximum number of iteration reached before convergence. Consider increasing max_iter to improve the fit.\n",
      "  ConvergenceWarning)\n"
     ]
    },
    {
     "name": "stdout",
     "output_type": "stream",
     "text": [
      "SGD RMSE: 1765.866179\n",
      "SGD MAE: 137.335713\n",
      "SGD IQR: 449.000000\n"
     ]
    }
   ],
   "source": [
    "sgd_param_dist = {\"loss\": ['squared_loss', 'huber', 'epsilon_insensitive', 'squared_epsilon_insensitive'],\n",
    "              \"penalty\": ['none', 'l2', 'l1', 'elasticnet'],\n",
    "              \"alpha\":  np.arange(10**-3, 10**3, 10**1),\n",
    "              \"l1_ratio\":  np.arange(0, 1, 10**-1)}\n",
    "sgd = SGDRegressor()\n",
    "\n",
    "sgd_random_search = RandomizedSearchCV(sgd, param_distributions=sgd_param_dist,\n",
    "                                    n_iter=1, cv=5, iid=False, scoring = ['neg_mean_squared_error'], \n",
    "                                       refit = 'neg_mean_squared_error')\n",
    "sgd_random_search.fit(X_train, y_train)\n",
    "sgd_random_search.best_params_\n",
    "\n",
    "sgd_preds = sgd_random_search.predict(X_test)\n",
    "sgd_error = y_test - sgd_preds\n",
    "print(\"SGD RMSE: %f\" % np.sqrt(mean_squared_error(y_test, sgd_preds)))\n",
    "print(\"SGD MAE: %f\" % median_absolute_error(y_test, sgd_preds))\n",
    "print(\"SGD IQR: %f\" % iqr(sgd_error))"
   ]
  },
  {
   "cell_type": "code",
   "execution_count": null,
   "metadata": {},
   "outputs": [],
   "source": [
    "svr_param_dist = {\"C\":  np.arange(10**-3, 10**3, 10),\n",
    "                 \"kernel\": ['linear', 'poly', 'rbf', 'sigmoid', 'precomputed']}\n",
    "svr = SVR(gamma = 'auto')\n",
    "\n",
    "svr_random_search = RandomizedSearchCV(svr, param_distributions=svr_param_dist,\n",
    "                                   n_iter=20, cv=5, iid=False, scoring = ['neg_mean_squared_error'], \n",
    "                                       refit = 'neg_mean_squared_error')\n",
    "svr_random_search.fit(X_train, y_train)\n",
    "svr_random_search.best_params_\n",
    "\n",
    "svr_preds = svr_random_search.predict(X_test)\n",
    "svr_error = y_test - svr_preds\n",
    "print(\"SVR RMSE: %f\" % np.sqrt(mean_squared_error(y_test, svr_preds)))\n",
    "print(\"svr MAE: %f\" % median_absolute_error(y_test, svr_preds))\n",
    "print(\"svr IQR: %f\" % iqr(svr_preds))"
   ]
  },
  {
   "cell_type": "code",
   "execution_count": 12,
   "metadata": {
    "scrolled": true
   },
   "outputs": [
    {
     "name": "stdout",
     "output_type": "stream",
     "text": [
      "[17:26:39] WARNING: src/objective/regression_obj.cu:152: reg:linear is now deprecated in favor of reg:squarederror.\n",
      "[17:26:40] WARNING: src/objective/regression_obj.cu:152: reg:linear is now deprecated in favor of reg:squarederror.\n",
      "[17:26:40] WARNING: src/objective/regression_obj.cu:152: reg:linear is now deprecated in favor of reg:squarederror.\n",
      "[17:26:41] WARNING: src/objective/regression_obj.cu:152: reg:linear is now deprecated in favor of reg:squarederror.\n",
      "[17:26:41] WARNING: src/objective/regression_obj.cu:152: reg:linear is now deprecated in favor of reg:squarederror.\n",
      "[17:26:41] WARNING: src/objective/regression_obj.cu:152: reg:linear is now deprecated in favor of reg:squarederror.\n",
      "XGboost RMSE: 1495.608868\n",
      "SGD MAE: 179.546021\n",
      "SGD IQR: 485.344788\n"
     ]
    }
   ],
   "source": [
    "xgb_param_dist = {\"max_depth\": range(1, 5),\n",
    "              \"learning_rate \":  np.arange(10**-3, 10**3, 10),\n",
    "              \"tree_method  \":['auto', 'exact', 'approx', 'hist']}\n",
    "xgb_reg = xgb.XGBRegressor()\n",
    "\n",
    "xgb_random_search = RandomizedSearchCV(xgb_reg, param_distributions=xgb_param_dist,\n",
    "                                    n_iter=1, cv=5, iid=False, scoring = ['neg_mean_squared_error'], \n",
    "                                       refit = 'neg_mean_squared_error')\n",
    "xgb_random_search.fit(X_train, y_train)\n",
    "xgb_random_search.cv_results_\n",
    "\n",
    "xgbreg_preds = xgb_random_search.predict(X_test)\n",
    "xgbreg_error = y_test - xgbreg_preds\n",
    "print(\"XGboost RMSE: %f\" % np.sqrt(mean_squared_error(y_test, xgbreg_preds)))\n",
    "print(\"SGD MAE: %f\" % median_absolute_error(y_test, xgbreg_preds))\n",
    "print(\"SGD IQR: %f\" % iqr(xgbreg_preds))"
   ]
  },
  {
   "cell_type": "code",
   "execution_count": 13,
   "metadata": {},
   "outputs": [
    {
     "name": "stderr",
     "output_type": "stream",
     "text": [
      "C:\\Users\\Andrey\\Anaconda3\\lib\\site-packages\\sklearn\\neural_network\\multilayer_perceptron.py:566: ConvergenceWarning: Stochastic Optimizer: Maximum iterations (200) reached and the optimization hasn't converged yet.\n",
      "  % self.max_iter, ConvergenceWarning)\n",
      "C:\\Users\\Andrey\\Anaconda3\\lib\\site-packages\\sklearn\\neural_network\\multilayer_perceptron.py:566: ConvergenceWarning: Stochastic Optimizer: Maximum iterations (200) reached and the optimization hasn't converged yet.\n",
      "  % self.max_iter, ConvergenceWarning)\n",
      "C:\\Users\\Andrey\\Anaconda3\\lib\\site-packages\\sklearn\\neural_network\\multilayer_perceptron.py:566: ConvergenceWarning: Stochastic Optimizer: Maximum iterations (200) reached and the optimization hasn't converged yet.\n",
      "  % self.max_iter, ConvergenceWarning)\n",
      "C:\\Users\\Andrey\\Anaconda3\\lib\\site-packages\\sklearn\\neural_network\\multilayer_perceptron.py:566: ConvergenceWarning: Stochastic Optimizer: Maximum iterations (200) reached and the optimization hasn't converged yet.\n",
      "  % self.max_iter, ConvergenceWarning)\n",
      "C:\\Users\\Andrey\\Anaconda3\\lib\\site-packages\\sklearn\\neural_network\\multilayer_perceptron.py:566: ConvergenceWarning: Stochastic Optimizer: Maximum iterations (200) reached and the optimization hasn't converged yet.\n",
      "  % self.max_iter, ConvergenceWarning)\n"
     ]
    },
    {
     "name": "stdout",
     "output_type": "stream",
     "text": [
      "MLP RMSE: 1608.193977\n",
      "SGD MAE: 190.886337\n",
      "SGD IQR: 546.582632\n"
     ]
    },
    {
     "name": "stderr",
     "output_type": "stream",
     "text": [
      "C:\\Users\\Andrey\\Anaconda3\\lib\\site-packages\\sklearn\\neural_network\\multilayer_perceptron.py:566: ConvergenceWarning: Stochastic Optimizer: Maximum iterations (200) reached and the optimization hasn't converged yet.\n",
      "  % self.max_iter, ConvergenceWarning)\n"
     ]
    }
   ],
   "source": [
    "mlp_param_dist = {\"activation\": ['identity', 'logistic', 'tanh', 'relu'],\n",
    "              \"solver\": ['lbfgs', 'sgd', 'adam'],\n",
    "              \"alpha\":  np.arange(0, 1, 10**-1)}\n",
    "mlp = MLPRegressor()\n",
    "\n",
    "mlp_random_search = RandomizedSearchCV(mlp, param_distributions=mlp_param_dist,\n",
    "                                    n_iter=1, cv=5, iid=False, scoring = ['neg_mean_squared_error'], \n",
    "                                       refit = 'neg_mean_squared_error')\n",
    "mlp_random_search.fit(X_train, y_train)\n",
    "mlp_random_search.cv_results_\n",
    "\n",
    "mlp_preds = mlp_random_search.predict(X_test)\n",
    "mlp_error = y_test - mlp_preds\n",
    "print(\"MLP RMSE: %f\" % np.sqrt(mean_squared_error(y_test, mlp_preds)))\n",
    "print(\"SGD MAE: %f\" % median_absolute_error(y_test, mlp_preds))\n",
    "print(\"SGD IQR: %f\" % iqr(mlp_preds))"
   ]
  },
  {
   "cell_type": "code",
   "execution_count": 14,
   "metadata": {},
   "outputs": [
    {
     "name": "stdout",
     "output_type": "stream",
     "text": [
      "KernelRidge RMSE: 1597.962554\n",
      "SGD MAE: 252.488897\n",
      "SGD IQR: 688.037645\n"
     ]
    }
   ],
   "source": [
    "kr_param_dist = {\"alpha\":  np.arange(10**-3, 10**3, 10)}\n",
    "kr = KernelRidge()\n",
    "\n",
    "kr_random_search = RandomizedSearchCV(kr, param_distributions=kr_param_dist,\n",
    "                                    n_iter=1, cv=5, iid=False, scoring = ['neg_mean_squared_error'], \n",
    "                                       refit = 'neg_mean_squared_error')\n",
    "kr_random_search.fit(X_train, y_train)\n",
    "kr_random_search.cv_results_\n",
    "\n",
    "krreg_preds = kr_random_search.predict(X_test)\n",
    "krreg_error = y_test - krreg_preds\n",
    "print(\"KernelRidge RMSE: %f\" % np.sqrt(mean_squared_error(y_test, krreg_preds)))\n",
    "print(\"SGD MAE: %f\" % median_absolute_error(y_test, krreg_preds))\n",
    "print(\"SGD IQR: %f\" % iqr(krreg_preds))"
   ]
  }
 ],
 "metadata": {
  "kernelspec": {
   "display_name": "Python 3",
   "language": "python",
   "name": "python3"
  },
  "language_info": {
   "codemirror_mode": {
    "name": "ipython",
    "version": 3
   },
   "file_extension": ".py",
   "mimetype": "text/x-python",
   "name": "python",
   "nbconvert_exporter": "python",
   "pygments_lexer": "ipython3",
   "version": "3.7.3"
  }
 },
 "nbformat": 4,
 "nbformat_minor": 2
}
